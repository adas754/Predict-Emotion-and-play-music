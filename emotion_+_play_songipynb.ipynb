{
  "nbformat": 4,
  "nbformat_minor": 0,
  "metadata": {
    "colab": {
      "name": "emotion + play songipynb",
      "provenance": []
    },
    "kernelspec": {
      "name": "python3",
      "display_name": "Python 3"
    },
    "language_info": {
      "name": "python"
    },
    "accelerator": "GPU"
  },
  "cells": [
    {
      "cell_type": "code",
      "metadata": {
        "id": "-JfXx82VnAvc"
      },
      "source": [
        "import numpy as np\n",
        "import pandas as pd\n",
        "import os\n",
        "import tensorflow as tf\n",
        "from keras.preprocessing.image import ImageDataGenerator, load_img\n",
        "from keras.layers import Conv2D, Dense, BatchNormalization, Activation, Dropout, MaxPooling2D, Flatten\n",
        "from tensorflow.keras.optimizers import Adam, RMSprop, SGD\n",
        "from keras import regularizers\n",
        "from keras.callbacks import ModelCheckpoint, CSVLogger, TensorBoard, EarlyStopping, ReduceLROnPlateau\n",
        "import datetime\n",
        "import matplotlib.pyplot as plt\n",
        "from tensorflow. keras.utils import plot_model"
      ],
      "execution_count": 1,
      "outputs": []
    },
    {
      "cell_type": "code",
      "metadata": {
        "colab": {
          "base_uri": "https://localhost:8080/"
        },
        "id": "5NtXUmvanVDg",
        "outputId": "d0352e4b-8640-48ae-a4ba-255c88078fc3"
      },
      "source": [
        "!pip install kaggle"
      ],
      "execution_count": 2,
      "outputs": [
        {
          "output_type": "stream",
          "name": "stdout",
          "text": [
            "Requirement already satisfied: kaggle in /usr/local/lib/python3.7/dist-packages (1.5.12)\n",
            "Requirement already satisfied: python-dateutil in /usr/local/lib/python3.7/dist-packages (from kaggle) (2.8.2)\n",
            "Requirement already satisfied: python-slugify in /usr/local/lib/python3.7/dist-packages (from kaggle) (5.0.2)\n",
            "Requirement already satisfied: certifi in /usr/local/lib/python3.7/dist-packages (from kaggle) (2021.10.8)\n",
            "Requirement already satisfied: urllib3 in /usr/local/lib/python3.7/dist-packages (from kaggle) (1.24.3)\n",
            "Requirement already satisfied: tqdm in /usr/local/lib/python3.7/dist-packages (from kaggle) (4.62.3)\n",
            "Requirement already satisfied: requests in /usr/local/lib/python3.7/dist-packages (from kaggle) (2.23.0)\n",
            "Requirement already satisfied: six>=1.10 in /usr/local/lib/python3.7/dist-packages (from kaggle) (1.15.0)\n",
            "Requirement already satisfied: text-unidecode>=1.3 in /usr/local/lib/python3.7/dist-packages (from python-slugify->kaggle) (1.3)\n",
            "Requirement already satisfied: idna<3,>=2.5 in /usr/local/lib/python3.7/dist-packages (from requests->kaggle) (2.10)\n",
            "Requirement already satisfied: chardet<4,>=3.0.2 in /usr/local/lib/python3.7/dist-packages (from requests->kaggle) (3.0.4)\n"
          ]
        }
      ]
    },
    {
      "cell_type": "code",
      "metadata": {
        "colab": {
          "resources": {
            "http://localhost:8080/nbextensions/google.colab/files.js": {
              "data": "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",
              "ok": true,
              "headers": [
                [
                  "content-type",
                  "application/javascript"
                ]
              ],
              "status": 200,
              "status_text": ""
            }
          },
          "base_uri": "https://localhost:8080/",
          "height": 93
        },
        "id": "8XA2y0hzp08H",
        "outputId": "c3ef15d7-472d-4f7c-afda-e45ff1993e03"
      },
      "source": [
        "from google.colab import files\n",
        "files.upload()"
      ],
      "execution_count": 3,
      "outputs": [
        {
          "output_type": "display_data",
          "data": {
            "text/html": [
              "\n",
              "     <input type=\"file\" id=\"files-89caa94d-6d10-44fe-af87-a838921a83c5\" name=\"files[]\" multiple disabled\n",
              "        style=\"border:none\" />\n",
              "     <output id=\"result-89caa94d-6d10-44fe-af87-a838921a83c5\">\n",
              "      Upload widget is only available when the cell has been executed in the\n",
              "      current browser session. Please rerun this cell to enable.\n",
              "      </output>\n",
              "      <script src=\"/nbextensions/google.colab/files.js\"></script> "
            ],
            "text/plain": [
              "<IPython.core.display.HTML object>"
            ]
          },
          "metadata": {}
        },
        {
          "output_type": "stream",
          "name": "stdout",
          "text": [
            "Saving kaggle.json to kaggle.json\n"
          ]
        },
        {
          "output_type": "execute_result",
          "data": {
            "text/plain": [
              "{'kaggle.json': b'{\"username\":\"adas754\",\"key\":\"6f1fc5ba50f3e264c2c139898e2e7c37\"}'}"
            ]
          },
          "metadata": {},
          "execution_count": 3
        }
      ]
    },
    {
      "cell_type": "code",
      "metadata": {
        "id": "RHoKGjWYqN3I"
      },
      "source": [
        "!mkdir -p ~/.Kaggle\n",
        "!cp kaggle.json ~/.kaggle/\n",
        "!chmod 600 ~/.kaggle/kaggle.json"
      ],
      "execution_count": 7,
      "outputs": []
    },
    {
      "cell_type": "code",
      "metadata": {
        "colab": {
          "base_uri": "https://localhost:8080/"
        },
        "id": "ZZKVzdlvqgMN",
        "outputId": "fd53baa4-4c2b-40ff-f706-848b5fd327af"
      },
      "source": [
        "!kaggle datasets download -d msambare/fer2013"
      ],
      "execution_count": 8,
      "outputs": [
        {
          "output_type": "stream",
          "name": "stdout",
          "text": [
            "Downloading fer2013.zip to /content\n",
            " 56% 34.0M/60.3M [00:00<00:00, 178MB/s]\n",
            "100% 60.3M/60.3M [00:00<00:00, 202MB/s]\n"
          ]
        }
      ]
    },
    {
      "cell_type": "code",
      "metadata": {
        "colab": {
          "base_uri": "https://localhost:8080/"
        },
        "id": "Ts3HdHOqqoEW",
        "outputId": "223a4804-6c27-4807-fe13-ed79a65a935e"
      },
      "source": [
        "os.system('apt-get install p7zip')"
      ],
      "execution_count": 9,
      "outputs": [
        {
          "output_type": "execute_result",
          "data": {
            "text/plain": [
              "0"
            ]
          },
          "metadata": {},
          "execution_count": 9
        }
      ]
    },
    {
      "cell_type": "code",
      "metadata": {
        "colab": {
          "base_uri": "https://localhost:8080/"
        },
        "id": "zYH8DGoMq04Q",
        "outputId": "70a08535-7513-4865-a6b6-95edf04ea60f"
      },
      "source": [
        "from zipfile import ZipFile\n",
        "file_name=\"fer2013.zip\"\n",
        "with ZipFile(file_name,'r')as zip:\n",
        "  zip.extractall()\n",
        "  print('Done')"
      ],
      "execution_count": 10,
      "outputs": [
        {
          "output_type": "stream",
          "name": "stdout",
          "text": [
            "Done\n"
          ]
        }
      ]
    },
    {
      "cell_type": "code",
      "metadata": {
        "id": "Rk_sQ1loq4It"
      },
      "source": [
        "train_dir = \"content/train\" #passing the path with training images\n",
        "test_dir = \"content/test\"   #passing the path with testing images"
      ],
      "execution_count": 11,
      "outputs": []
    },
    {
      "cell_type": "code",
      "metadata": {
        "id": "hyuuBkGvrByg"
      },
      "source": [
        "import numpy as np\n",
        "from google.colab.patches import cv2_imshow\n",
        "import argparse\n",
        "import matplotlib.pyplot as plt\n",
        "import cv2\n",
        "from tensorflow.keras.models import Sequential\n",
        "from tensorflow.keras.layers import Dense, Dropout, Flatten\n",
        "from tensorflow.keras.layers import Conv2D\n",
        "from tensorflow.keras.optimizers import Adam\n",
        "from tensorflow.keras.layers import MaxPooling2D\n",
        "from tensorflow.keras.preprocessing.image import ImageDataGenerator\n",
        "import os\n",
        "os.environ['TF_CPP_MIN_LOG_LEVEL'] = '2'\n",
        "\n",
        "mode = \"display\"\n",
        "\n",
        "# Create the model\n",
        "model = Sequential()\n",
        "\n",
        "model.add(Conv2D(32, kernel_size=(3, 3), activation='relu', input_shape=(48,48,1)))\n",
        "model.add(Conv2D(64, kernel_size=(3, 3), activation='relu'))\n",
        "model.add(MaxPooling2D(pool_size=(2, 2)))\n",
        "model.add(Dropout(0.25))\n",
        "\n",
        "model.add(Conv2D(128, kernel_size=(3, 3), activation='relu'))\n",
        "model.add(MaxPooling2D(pool_size=(2, 2)))\n",
        "model.add(Conv2D(128, kernel_size=(3, 3), activation='relu'))\n",
        "model.add(MaxPooling2D(pool_size=(2, 2)))\n",
        "model.add(Dropout(0.25))\n",
        "\n",
        "model.add(Flatten())\n",
        "model.add(Dense(1024, activation='relu'))\n",
        "model.add(Dropout(0.5))\n",
        "model.add(Dense(7, activation='softmax'))\n",
        "\n",
        "\n",
        "def emotion_recog(frame):\n",
        "    model.load_weights('model.h5')\n",
        "\n",
        "    # prevents openCL usage and unnecessary logging messages\n",
        "    cv2.ocl.setUseOpenCL(False)\n",
        "\n",
        "    # dictionary which assigns each label an emotion (alphabetical order)\n",
        "    emotion_dict = {0: \"Angry\", 1: \"Disgusted\", 2: \"Fearful\", 3: \"Happy\", 4: \"Neutral\", 5: \"Sad\", 6: \"Surprised\"}\n",
        "\n",
        "    # frame = cv2.imread(\"image1.jpg\")\n",
        "    facecasc = cv2.CascadeClassifier('haarcascade_frontalface_default.xml')\n",
        "    gray = cv2.cvtColor(frame, cv2.COLOR_BGR2GRAY)\n",
        "    faces = facecasc.detectMultiScale(gray,scaleFactor=1.3, minNeighbors=5)\n",
        "\n",
        "    for (x, y, w, h) in faces:\n",
        "        cv2.rectangle(frame, (x, y-50), (x+w, y+h+10), (255, 0, 255), 3)\n",
        "        roi_gray = gray[y:y + h, x:x + w]\n",
        "        cropped_img = np.expand_dims(np.expand_dims(cv2.resize(roi_gray, (48, 48)), -1), 0)\n",
        "        prediction = model.predict(cropped_img)\n",
        "        maxindex = int(np.argmax(prediction))\n",
        "        cv2.putText(frame, emotion_dict[maxindex], (x+20, y-60), cv2.FONT_HERSHEY_SIMPLEX, 1, (255, 255, 255), 2, cv2.LINE_AA)\n",
        "\n",
        "    # cv2_imshow(frame)\n",
        "    return frame\n"
      ],
      "execution_count": 12,
      "outputs": []
    },
    {
      "cell_type": "code",
      "metadata": {
        "id": "4mmiPyDqrGP9"
      },
      "source": [
        "def emotion_analysis(emotions):\n",
        "    objects = ('angry', 'disgust', 'fear', 'happy', 'sad', 'surprise', 'neutral')\n",
        "    y_pos = np.arange(len(objects))\n",
        "    \n",
        "    plt.bar(y_pos, emotions, align='center', alpha=0.5)\n",
        "    plt.xticks(y_pos, objects)\n",
        "    plt.ylabel('percentage')\n",
        "    plt.title('emotion')\n",
        "    \n",
        "    plt.show()"
      ],
      "execution_count": 13,
      "outputs": []
    },
    {
      "cell_type": "code",
      "metadata": {
        "colab": {
          "base_uri": "https://localhost:8080/"
        },
        "id": "m1lOdk9jrOKF",
        "outputId": "eb2155c2-50bc-4c73-a2d4-2f71568c8d65"
      },
      "source": [
        "train_dir = 'train'\n",
        "val_dir = 'test'\n",
        "train_datagen = ImageDataGenerator(rescale=1./255)\n",
        "val_datagen = ImageDataGenerator(rescale=1./255)\n",
        "\n",
        "train_generator = train_datagen.flow_from_directory(\n",
        "        train_dir,\n",
        "        target_size=(48,48),\n",
        "        batch_size=64,\n",
        "        color_mode=\"grayscale\",\n",
        "        class_mode='categorical')\n",
        "\n",
        "validation_generator = val_datagen.flow_from_directory(\n",
        "        val_dir,\n",
        "        target_size=(48,48),\n",
        "        batch_size=64,\n",
        "        color_mode=\"grayscale\",\n",
        "        class_mode='categorical')"
      ],
      "execution_count": 14,
      "outputs": [
        {
          "output_type": "stream",
          "name": "stdout",
          "text": [
            "Found 28709 images belonging to 7 classes.\n",
            "Found 7178 images belonging to 7 classes.\n"
          ]
        }
      ]
    },
    {
      "cell_type": "code",
      "metadata": {
        "id": "qle2r5fNrVKu"
      },
      "source": [
        "emotion_model = Sequential()\n",
        "emotion_model.add(Conv2D(32, kernel_size=(3, 3), activation='relu', input_shape=(48,48,1)))\n",
        "emotion_model.add(Conv2D(64, kernel_size=(3, 3), activation='relu'))\n",
        "emotion_model.add(MaxPooling2D(pool_size=(2, 2)))\n",
        "emotion_model.add(Dropout(0.25))\n",
        "emotion_model.add(Conv2D(128, kernel_size=(3, 3), activation='relu'))\n",
        "emotion_model.add(MaxPooling2D(pool_size=(2, 2)))\n",
        "emotion_model.add(Conv2D(128, kernel_size=(3, 3), activation='relu'))\n",
        "emotion_model.add(MaxPooling2D(pool_size=(2, 2)))\n",
        "emotion_model.add(Dropout(0.25))\n",
        "emotion_model.add(Flatten())\n",
        "emotion_model.add(Dense(1024, activation='relu'))\n",
        "emotion_model.add(Dropout(0.5))\n",
        "emotion_model.add(Dense(7, activation='softmax'))"
      ],
      "execution_count": 15,
      "outputs": []
    },
    {
      "cell_type": "code",
      "metadata": {
        "colab": {
          "base_uri": "https://localhost:8080/"
        },
        "id": "G0I1RyXWrcoR",
        "outputId": "985bdbdd-ed99-400b-a38a-0a832aa2e75f"
      },
      "source": [
        "emotion_model.compile(loss='kullback_leibler_divergence',optimizer=Adam(lr=0.0001, decay=1e-6),metrics=['accuracy'])\n",
        "emotion_model_info = emotion_model.fit_generator(\n",
        "        train_generator,\n",
        "        steps_per_epoch=28709 // 64,\n",
        "        epochs=50,\n",
        "        validation_data=validation_generator,\n",
        "        validation_steps=7178 // 64)"
      ],
      "execution_count": 16,
      "outputs": [
        {
          "output_type": "stream",
          "name": "stderr",
          "text": [
            "/usr/local/lib/python3.7/dist-packages/keras/optimizer_v2/adam.py:105: UserWarning: The `lr` argument is deprecated, use `learning_rate` instead.\n",
            "  super(Adam, self).__init__(name, **kwargs)\n",
            "/usr/local/lib/python3.7/dist-packages/ipykernel_launcher.py:7: UserWarning: `Model.fit_generator` is deprecated and will be removed in a future version. Please use `Model.fit`, which supports generators.\n",
            "  import sys\n"
          ]
        },
        {
          "output_type": "stream",
          "name": "stdout",
          "text": [
            "Epoch 1/50\n",
            "448/448 [==============================] - 22s 25ms/step - loss: 1.8032 - accuracy: 0.2588 - val_loss: 1.7265 - val_accuracy: 0.3252\n",
            "Epoch 2/50\n",
            "448/448 [==============================] - 10s 23ms/step - loss: 1.6396 - accuracy: 0.3596 - val_loss: 1.5631 - val_accuracy: 0.4083\n",
            "Epoch 3/50\n",
            "448/448 [==============================] - 11s 23ms/step - loss: 1.5506 - accuracy: 0.4010 - val_loss: 1.4990 - val_accuracy: 0.4212\n",
            "Epoch 4/50\n",
            "448/448 [==============================] - 10s 23ms/step - loss: 1.4834 - accuracy: 0.4296 - val_loss: 1.4321 - val_accuracy: 0.4559\n",
            "Epoch 5/50\n",
            "448/448 [==============================] - 10s 23ms/step - loss: 1.4218 - accuracy: 0.4589 - val_loss: 1.3723 - val_accuracy: 0.4798\n",
            "Epoch 6/50\n",
            "448/448 [==============================] - 10s 23ms/step - loss: 1.3719 - accuracy: 0.4753 - val_loss: 1.3315 - val_accuracy: 0.4960\n",
            "Epoch 7/50\n",
            "448/448 [==============================] - 10s 23ms/step - loss: 1.3212 - accuracy: 0.4986 - val_loss: 1.2951 - val_accuracy: 0.5135\n",
            "Epoch 8/50\n",
            "448/448 [==============================] - 10s 23ms/step - loss: 1.2832 - accuracy: 0.5084 - val_loss: 1.2653 - val_accuracy: 0.5218\n",
            "Epoch 9/50\n",
            "448/448 [==============================] - 11s 25ms/step - loss: 1.2493 - accuracy: 0.5295 - val_loss: 1.2416 - val_accuracy: 0.5296\n",
            "Epoch 10/50\n",
            "448/448 [==============================] - 10s 23ms/step - loss: 1.2176 - accuracy: 0.5389 - val_loss: 1.2219 - val_accuracy: 0.5343\n",
            "Epoch 11/50\n",
            "448/448 [==============================] - 10s 23ms/step - loss: 1.1888 - accuracy: 0.5473 - val_loss: 1.2124 - val_accuracy: 0.5372\n",
            "Epoch 12/50\n",
            "448/448 [==============================] - 10s 23ms/step - loss: 1.1640 - accuracy: 0.5609 - val_loss: 1.1858 - val_accuracy: 0.5469\n",
            "Epoch 13/50\n",
            "448/448 [==============================] - 10s 23ms/step - loss: 1.1365 - accuracy: 0.5709 - val_loss: 1.1828 - val_accuracy: 0.5481\n",
            "Epoch 14/50\n",
            "448/448 [==============================] - 10s 23ms/step - loss: 1.1092 - accuracy: 0.5853 - val_loss: 1.1531 - val_accuracy: 0.5579\n",
            "Epoch 15/50\n",
            "448/448 [==============================] - 11s 25ms/step - loss: 1.0849 - accuracy: 0.5945 - val_loss: 1.1398 - val_accuracy: 0.5686\n",
            "Epoch 16/50\n",
            "448/448 [==============================] - 11s 23ms/step - loss: 1.0596 - accuracy: 0.6069 - val_loss: 1.1357 - val_accuracy: 0.5769\n",
            "Epoch 17/50\n",
            "448/448 [==============================] - 10s 23ms/step - loss: 1.0332 - accuracy: 0.6156 - val_loss: 1.1433 - val_accuracy: 0.5664\n",
            "Epoch 18/50\n",
            "448/448 [==============================] - 10s 23ms/step - loss: 1.0064 - accuracy: 0.6250 - val_loss: 1.1065 - val_accuracy: 0.5818\n",
            "Epoch 19/50\n",
            "448/448 [==============================] - 10s 23ms/step - loss: 0.9870 - accuracy: 0.6323 - val_loss: 1.1037 - val_accuracy: 0.5840\n",
            "Epoch 20/50\n",
            "448/448 [==============================] - 10s 23ms/step - loss: 0.9655 - accuracy: 0.6416 - val_loss: 1.1155 - val_accuracy: 0.5837\n",
            "Epoch 21/50\n",
            "448/448 [==============================] - 10s 23ms/step - loss: 0.9397 - accuracy: 0.6531 - val_loss: 1.1061 - val_accuracy: 0.5840\n",
            "Epoch 22/50\n",
            "448/448 [==============================] - 10s 23ms/step - loss: 0.9180 - accuracy: 0.6605 - val_loss: 1.0997 - val_accuracy: 0.5880\n",
            "Epoch 23/50\n",
            "448/448 [==============================] - 10s 23ms/step - loss: 0.8942 - accuracy: 0.6681 - val_loss: 1.0827 - val_accuracy: 0.6011\n",
            "Epoch 24/50\n",
            "448/448 [==============================] - 10s 23ms/step - loss: 0.8798 - accuracy: 0.6768 - val_loss: 1.0851 - val_accuracy: 0.5984\n",
            "Epoch 25/50\n",
            "448/448 [==============================] - 10s 23ms/step - loss: 0.8508 - accuracy: 0.6874 - val_loss: 1.0749 - val_accuracy: 0.6009\n",
            "Epoch 26/50\n",
            "448/448 [==============================] - 10s 23ms/step - loss: 0.8285 - accuracy: 0.6939 - val_loss: 1.0881 - val_accuracy: 0.6055\n",
            "Epoch 27/50\n",
            "448/448 [==============================] - 10s 23ms/step - loss: 0.8029 - accuracy: 0.7026 - val_loss: 1.0822 - val_accuracy: 0.6052\n",
            "Epoch 28/50\n",
            "448/448 [==============================] - 10s 23ms/step - loss: 0.7795 - accuracy: 0.7137 - val_loss: 1.0817 - val_accuracy: 0.6078\n",
            "Epoch 29/50\n",
            "448/448 [==============================] - 10s 23ms/step - loss: 0.7568 - accuracy: 0.7216 - val_loss: 1.0834 - val_accuracy: 0.6048\n",
            "Epoch 30/50\n",
            "448/448 [==============================] - 10s 23ms/step - loss: 0.7361 - accuracy: 0.7304 - val_loss: 1.0848 - val_accuracy: 0.6090\n",
            "Epoch 31/50\n",
            "448/448 [==============================] - 11s 25ms/step - loss: 0.7151 - accuracy: 0.7390 - val_loss: 1.0847 - val_accuracy: 0.6138\n",
            "Epoch 32/50\n",
            "448/448 [==============================] - 10s 23ms/step - loss: 0.6920 - accuracy: 0.7473 - val_loss: 1.0836 - val_accuracy: 0.6133\n",
            "Epoch 33/50\n",
            "448/448 [==============================] - 10s 23ms/step - loss: 0.6686 - accuracy: 0.7554 - val_loss: 1.0780 - val_accuracy: 0.6134\n",
            "Epoch 34/50\n",
            "448/448 [==============================] - 10s 23ms/step - loss: 0.6498 - accuracy: 0.7600 - val_loss: 1.0954 - val_accuracy: 0.6126\n",
            "Epoch 35/50\n",
            "448/448 [==============================] - 10s 23ms/step - loss: 0.6363 - accuracy: 0.7722 - val_loss: 1.0865 - val_accuracy: 0.6177\n",
            "Epoch 36/50\n",
            "448/448 [==============================] - 10s 23ms/step - loss: 0.6050 - accuracy: 0.7805 - val_loss: 1.1014 - val_accuracy: 0.6203\n",
            "Epoch 37/50\n",
            "448/448 [==============================] - 10s 23ms/step - loss: 0.5878 - accuracy: 0.7888 - val_loss: 1.1017 - val_accuracy: 0.6183\n",
            "Epoch 38/50\n",
            "448/448 [==============================] - 10s 23ms/step - loss: 0.5696 - accuracy: 0.7923 - val_loss: 1.1020 - val_accuracy: 0.6212\n",
            "Epoch 39/50\n",
            "448/448 [==============================] - 11s 25ms/step - loss: 0.5544 - accuracy: 0.7988 - val_loss: 1.0962 - val_accuracy: 0.6208\n",
            "Epoch 40/50\n",
            "448/448 [==============================] - 10s 23ms/step - loss: 0.5350 - accuracy: 0.8053 - val_loss: 1.1025 - val_accuracy: 0.6225\n",
            "Epoch 41/50\n",
            "448/448 [==============================] - 11s 23ms/step - loss: 0.5230 - accuracy: 0.8112 - val_loss: 1.1270 - val_accuracy: 0.6184\n",
            "Epoch 42/50\n",
            "448/448 [==============================] - 10s 23ms/step - loss: 0.4982 - accuracy: 0.8213 - val_loss: 1.1266 - val_accuracy: 0.6194\n",
            "Epoch 43/50\n",
            "448/448 [==============================] - 11s 23ms/step - loss: 0.4882 - accuracy: 0.8246 - val_loss: 1.1174 - val_accuracy: 0.6281\n",
            "Epoch 44/50\n",
            "448/448 [==============================] - 10s 23ms/step - loss: 0.4721 - accuracy: 0.8315 - val_loss: 1.1373 - val_accuracy: 0.6190\n",
            "Epoch 45/50\n",
            "448/448 [==============================] - 10s 23ms/step - loss: 0.4573 - accuracy: 0.8345 - val_loss: 1.1534 - val_accuracy: 0.6215\n",
            "Epoch 46/50\n",
            "448/448 [==============================] - 11s 25ms/step - loss: 0.4453 - accuracy: 0.8400 - val_loss: 1.1547 - val_accuracy: 0.6232\n",
            "Epoch 47/50\n",
            "448/448 [==============================] - 11s 26ms/step - loss: 0.4217 - accuracy: 0.8485 - val_loss: 1.1598 - val_accuracy: 0.6191\n",
            "Epoch 48/50\n",
            "448/448 [==============================] - 10s 23ms/step - loss: 0.4172 - accuracy: 0.8492 - val_loss: 1.1574 - val_accuracy: 0.6196\n",
            "Epoch 49/50\n",
            "448/448 [==============================] - 10s 23ms/step - loss: 0.4038 - accuracy: 0.8525 - val_loss: 1.2023 - val_accuracy: 0.6176\n",
            "Epoch 50/50\n",
            "448/448 [==============================] - 11s 26ms/step - loss: 0.3954 - accuracy: 0.8585 - val_loss: 1.1785 - val_accuracy: 0.6235\n"
          ]
        }
      ]
    },
    {
      "cell_type": "code",
      "metadata": {
        "id": "gm_fT6JsvTPE"
      },
      "source": [
        "emotion_model.save('model.h5')"
      ],
      "execution_count": 17,
      "outputs": []
    },
    {
      "cell_type": "code",
      "metadata": {
        "id": "oCKxBXYAvfd1"
      },
      "source": [
        "from keras.models import load_model\n",
        "emotion_model = load_model('model.h5')"
      ],
      "execution_count": 18,
      "outputs": []
    },
    {
      "cell_type": "code",
      "metadata": {
        "id": "w9dEhzNwvk24"
      },
      "source": [
        "objects = ('angry', 'disgust', 'fear', 'happy', 'sad', 'surprise', 'neutral')\n",
        "def emotion_analysis(emotions):\n",
        "    \n",
        "    y_pos = np.arange(len(objects))\n",
        "    \n",
        "    plt.bar(y_pos, emotions, align='center', alpha=0.5)\n",
        "    plt.xticks(y_pos, objects)\n",
        "    plt.ylabel('percentage')\n",
        "    plt.title('emotion')\n",
        "    \n",
        "    plt.show()"
      ],
      "execution_count": 19,
      "outputs": []
    },
    {
      "cell_type": "code",
      "metadata": {
        "id": "RxyvtThJvpx1"
      },
      "source": [
        ""
      ],
      "execution_count": null,
      "outputs": []
    },
    {
      "cell_type": "code",
      "metadata": {
        "id": "qBRw8Xk5vqxN"
      },
      "source": [
        "from IPython.display import display, Javascript\n",
        "from google.colab.output import eval_js\n",
        "from base64 import b64decode\n",
        "\n",
        "def take_photo(filename='photo.jpg', quality=0.8):\n",
        "  js = Javascript('''\n",
        "    async function takePhoto(quality) {\n",
        "      const div = document.createElement('div');\n",
        "      const capture = document.createElement('button');\n",
        "      capture.textContent = 'Capture';\n",
        "      div.appendChild(capture);\n",
        "\n",
        "      const video = document.createElement('video');\n",
        "      video.style.display = 'block';\n",
        "      const stream = await navigator.mediaDevices.getUserMedia({video: true});\n",
        "\n",
        "      document.body.appendChild(div);\n",
        "      div.appendChild(video);\n",
        "      video.srcObject = stream;\n",
        "      await video.play();\n",
        "\n",
        "      // Resize the output to fit the video element.\n",
        "      google.colab.output.setIframeHeight(document.documentElement.scrollHeight, true);\n",
        "\n",
        "      // Wait for Capture to be clicked.\n",
        "      await new Promise((resolve) => capture.onclick = resolve);\n",
        "\n",
        "      const canvas = document.createElement('canvas');\n",
        "      canvas.width = video.videoWidth;\n",
        "      canvas.height = video.videoHeight;\n",
        "      canvas.getContext('2d').drawImage(video, 0, 0);\n",
        "      stream.getVideoTracks()[0].stop();\n",
        "      div.remove();\n",
        "      return canvas.toDataURL('image/jpeg', quality);\n",
        "    }\n",
        "    ''')\n",
        "  display(js)\n",
        "  data = eval_js('takePhoto({})'.format(quality))\n",
        "  binary = b64decode(data.split(',')[1])\n",
        "  with open(filename, 'wb') as f:\n",
        "    f.write(binary)\n",
        "  return filename"
      ],
      "execution_count": null,
      "outputs": []
    },
    {
      "cell_type": "code",
      "metadata": {
        "id": "NKSnrWOgvqxN"
      },
      "source": [
        "from IPython.display import Image\n",
        "try:\n",
        "  filename = take_photo()\n",
        "  print('Saved to {}'.format(filename))\n",
        "  \n",
        "  # Show the image which was just taken.\n",
        "  display(Image(filename))\n",
        "except Exception as err:\n",
        "  # Errors will be thrown if the user does not have a webcam or if they do not\n",
        "  # grant the page permission to access it.\n",
        "  print(str(err))"
      ],
      "execution_count": null,
      "outputs": []
    },
    {
      "cell_type": "code",
      "metadata": {
        "colab": {
          "base_uri": "https://localhost:8080/",
          "height": 683
        },
        "id": "Z3-vyR3RvwAp",
        "outputId": "016079ab-3f03-41d1-f6d7-5ae9f9b1d7b0"
      },
      "source": [
        "import cv2\n",
        "            \n",
        "def facecrop(image):  \n",
        "    facedata = '/content/haarcascade_frontalface_alt.xml'\n",
        "    cascade = cv2.CascadeClassifier(facedata)\n",
        "\n",
        "    img = cv2.imread(image)\n",
        "\n",
        "    try:\n",
        "    \n",
        "        minisize = (img.shape[1],img.shape[0])\n",
        "        miniframe = cv2.resize(img, minisize)\n",
        "\n",
        "        faces = cascade.detectMultiScale(miniframe)\n",
        "\n",
        "        for f in faces:\n",
        "            x, y, w, h = [ v for v in f ]\n",
        "            cv2.rectangle(img, (x,y), (x+w,y+h), (0,255,0), 2)\n",
        "\n",
        "            sub_face = img[y:y+h, x:x+w]\n",
        "\n",
        "            \n",
        "            cv2.imwrite('/content/child.jpg', sub_face)\n",
        "            #print (\"Writing: \" + image)\n",
        "\n",
        "    except Exception as e:\n",
        "        print (e)\n",
        "\n",
        "   \n",
        "\n",
        "\n",
        "if __name__ == '__main__':\n",
        "    facecrop('/content/child.jpg')\n",
        "\n",
        "#Testing a file.\n",
        "\n",
        "from keras.preprocessing import image\n",
        "from keras.preprocessing.image import ImageDataGenerator\n",
        "\n",
        "import numpy as np\n",
        "import matplotlib.pyplot as plt\n",
        "\n",
        "\n",
        "file = '/content/child.jpg'\n",
        "true_image = image.load_img(file)\n",
        "img = image.load_img(file, color_mode=\"grayscale\", target_size=(48, 48))\n",
        "\n",
        "x = image.img_to_array(img)\n",
        "x = np.expand_dims(x, axis = 0)\n",
        "\n",
        "x /= 255\n",
        "\n",
        "custom = emotion_model.predict(x)\n",
        "emotion_analysis(custom[0])\n",
        "\n",
        "#x = np.array(x, 'float32')\n",
        "#x = x.reshape([48, 48]);\n",
        "\n",
        "print(custom)\n",
        "print(type(custom))\n",
        "print(np.amax(custom))\n",
        "m=np.amax(custom)\n",
        "cus=custom.flatten()\n",
        "cust=cus.tolist()\n",
        "print(m)\n",
        "index=cust.index(m)\n",
        "#print(np.where(m==np.max(custom)))\n",
        "print(index)\n",
        "print(objects)\n",
        "\n",
        "'''\n",
        "m=custom[0]\n",
        "for i in len(objects):\n",
        "  if custom[i]>custom[i+1]:\n",
        "    m=custom[i]\n",
        "    break;\n",
        "'''\n",
        "print(objects[index])\n",
        "anw=objects[index]\n",
        "print(\"emotion:\",anw)\n",
        "plt.imshow(true_image)\n",
        "plt.show()"
      ],
      "execution_count": 21,
      "outputs": [
        {
          "output_type": "stream",
          "name": "stdout",
          "text": [
            "OpenCV(4.1.2) /io/opencv/modules/objdetect/src/cascadedetect.cpp:1689: error: (-215:Assertion failed) !empty() in function 'detectMultiScale'\n",
            "\n"
          ]
        },
        {
          "output_type": "display_data",
          "data": {
            "image/png": "[encoded data removed]",
            "text/plain": [
              "<Figure size 432x288 with 1 Axes>"
            ]
          },
          "metadata": {
            "needs_background": "light"
          }
        },
        {
          "output_type": "stream",
          "name": "stdout",
          "text": [
            "[[8.2628921e-02 7.9629230e-05 2.1058558e-02 9.6820033e-05 2.8572536e-01\n",
            "  6.0986006e-01 5.5071909e-04]]\n",
            "<class 'numpy.ndarray'>\n",
            "0.60986006\n",
            "0.60986006\n",
            "5\n",
            "('angry', 'disgust', 'fear', 'happy', 'sad', 'surprise', 'neutral')\n",
            "surprise\n",
            "emotion: surprise\n"
          ]
        },
        {
          "output_type": "display_data",
          "data": {
            "image/png": "[encoded data removed]",
            "text/plain": [
              "<Figure size 432x288 with 1 Axes>"
            ]
          },
          "metadata": {
            "needs_background": "light"
          }
        }
      ]
    },
    {
      "cell_type": "code",
      "metadata": {
        "id": "WLosMjlo1npr",
        "colab": {
          "base_uri": "https://localhost:8080/"
        },
        "outputId": "0a68a772-0f92-4b13-d2d9-e0e415f999a6"
      },
      "source": [
        "import urllib.request\n",
        "import re\n",
        "\n",
        "if anw==\"angry\":\n",
        "  search_keyword=\"happy\"\n",
        "  html = urllib.request.urlopen(\"https://www.youtube.com/watch?v=1ZYbU82GVz4&t=596s\" + search_keyword)\n",
        "  video_ids = re.findall(r\"watch\\?v=(\\S{11})\", html.read().decode())\n",
        "  print(\"https://www.youtube.com/watch?v=\" + video_ids[0])\n",
        "elif anw==\"surprise\":\n",
        "  search_keyword=\"motivation\"\n",
        "  html = urllib.request.urlopen(\"https://www.youtube.com/watch?v=6qWpSewDy5Y\" + search_keyword)\n",
        "  video_ids = re.findall(r\"watch\\?v=(\\S{11})\", html.read().decode())\n",
        "  print(\"https://www.youtube.com/watch?v=\" + video_ids[0])\n",
        "elif anw==\"fear\":\n",
        "  search_keyword=\"brave\"\n",
        "  html = urllib.request.urlopen(\"https://youtu.be/7D16blZDRr8\" + search_keyword)\n",
        "  video_ids = re.findall(r\"watch\\?v=(\\S{11})\", html.read().decode())\n",
        "  print(\"https://www.youtube.com/watch?v=\" + video_ids[0])\n",
        "elif anw==\"disgust\":\n",
        "  search_keyword=\"happy\"\n",
        "  html = urllib.request.urlopen(\"https://youtu.be/7D16blZDRr8\" + search_keyword)\n",
        "  video_ids = re.findall(r\"watch\\?v=(\\S{11})\", html.read().decode())\n",
        "  print(\"https://www.youtube.com/watch?v=\" + video_ids[0])\n",
        "elif anw==\"happy\":\n",
        "  search_keyword=\"happy\"\n",
        "  html = urllib.request.urlopen(\"https://youtu.be/nRtRlmoyfyw\" + search_keyword)\n",
        "  video_ids = re.findall(r\"watch\\?v=(\\S{11})\", html.read().decode())\n",
        "  print(\"https://www.youtube.com/watch?v=\" + video_ids[0])\n",
        "elif anw==\"sad\":\n",
        "  search_keyword=\"happy\"\n",
        "  html = urllib.request.urlopen(\"https://youtu.be/RE29EUeJAb0\" + search_keyword)\n",
        "  video_ids = re.findall(r\"watch\\?v=(\\S{11})\", html.read().decode())\n",
        "  print(\"https://www.youtube.com/watch?v=\" + video_ids[0])\n",
        "elif anw==\"neutral\":\n",
        "  search_keyword=\"happy\"\n",
        "  html = urllib.request.urlopen(\"https://youtu.be/7D16blZDRr8\" + search_keyword)\n",
        "  video_ids = re.findall(r\"watch\\?v=(\\S{11})\", html.read().decode())\n",
        "  print(\"https://www.youtube.com/watch?v=\" + video_ids[0])\n",
        "else:\n",
        "  search_keyword=\"happy\"\n",
        "  html = urllib.request.urlopen(\"https://youtu.be/7D16blZDRr8\" + search_keyword)\n",
        "  video_ids = re.findall(r\"watch\\?v=(\\S{11})\", html.read().decode())\n",
        "  print(\"https://www.youtube.com/watch?v=\" + video_ids[0])\n",
        "\n",
        "\n",
        "\n",
        "\n",
        "\n",
        "\n",
        "\n"
      ],
      "execution_count": 22,
      "outputs": [
        {
          "output_type": "stream",
          "name": "stdout",
          "text": [
            "https://www.youtube.com/watch?v=6qWpSewDy5Y\n"
          ]
        }
      ]
    }
  ]
}